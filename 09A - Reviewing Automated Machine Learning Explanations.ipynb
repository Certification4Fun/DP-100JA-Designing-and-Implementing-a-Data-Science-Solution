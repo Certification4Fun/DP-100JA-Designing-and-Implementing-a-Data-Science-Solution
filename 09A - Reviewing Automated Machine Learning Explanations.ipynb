﻿{
  "cells": [
    {
      "cell_type": "markdown",
      "metadata": {},
      "source": [
        "# 自動 Machine Learning の説明を確認する\r\n",
        "\r\n",
        "機械学習がますます普及するにつれて、モデルによる予測は私たちの社会の多くの側面に大きな影響を与えます。たとえば、機械学習モデルは、銀行が融資を許可するか、医師が治療の優先順位を決定する方法においてますます重要な要素となっています。モデルを解釈して説明する能力はますます重要になり、機械学習モデルによる予測の根拠を説明し、正当化し、モデル内の不注意な偏りを特定することができます。\r\n",
        "\r\n",
        "自動機械学習を使用してモデルをトレーニングする場合、各機能 (前処理変換によって生成されたエンジニアリング フィーチャーを含む) がラベル予測に影響を与える程度を定量化する機能の重要性の説明を生成するオプションがあります。このラボでは、自動 Machine Learning 実験によって生成された説明について説明します。\r\n",
        "\r\n",
        "\r\n",
        "## ワークスペースに接続する\r\n",
        "\r\n",
        "まず、Azure ML SDK を使用してワークスペースに接続する必要があります。\r\n",
        "\r\n",
        "> **注**: 前回の演習を完了してから Azure サブスクリプションとの認証済みセッションの有効期限が切れている場合は、再認証を求めるメッセージが表示されます。"
      ]
    },
    {
      "cell_type": "code",
      "execution_count": null,
      "metadata": {},
      "outputs": [],
      "source": [
        "import azureml.core\n",
        "from azureml.core import Workspace\n",
        "\n",
        "# 保存した構成ファイルからワークスペースを読み込む\r\n",
        "ws = Workspace.from_config()\n",
        "print('Ready to use Azure ML {} to work with {}'.format(azureml.core.VERSION, ws.name))"
      ]
    },
    {
      "cell_type": "markdown",
      "metadata": {},
      "source": [
        "## 自動 Machine Learning 実験を実行する\r\n",
        "\r\n",
        "このラボの時間を短縮するために、ローカル コンピューティングで 3 回の反復のみで自動 Machine Learning 実験を実行します。\r\n",
        "\r\n",
        "**model_explainability** 構成オプションが **True** に設定されていることに注意してください。"
      ]
    },
    {
      "cell_type": "code",
      "execution_count": null,
      "metadata": {},
      "outputs": [],
      "source": [
        "import pandas as pd\n",
        "from azureml.train.automl import AutoMLConfig\n",
        "from azureml.core.experiment import Experiment\n",
        "from azureml.widgets import RunDetails\n",
        "\n",
        "# データを読み込む\r\n",
        "train_data = pd.read_csv('data/diabetes.csv')\n",
        "\n",
        "# 自動 ML を構成する\r\n",
        "automl_config = AutoMLConfig(name='Automated ML Experiment',\n",
        "                             task='classification',\n",
        "                             compute_target='local',\n",
        "                             training_data = train_data,\n",
        "                             n_cross_validations = 2,\n",
        "                             label_column_name='Diabetic',\n",
        "                             iterations=3,\n",
        "                             primary_metric = 'AUC_weighted',\n",
        "                             max_concurrent_iterations=3,\n",
        "                             featurization='off',\n",
        "                             model_explainability=True # フィーチャーの重要度を生成します!\r\n",
        "                             )\n",
        "\n",
        "# 自動 ML 実験を実行する\r\n",
        "print('Submitting Auto ML experiment...')\n",
        "automl_experiment = Experiment(ws, 'diabetes_automl')\n",
        "automl_run = automl_experiment.submit(automl_config)\n",
        "automl_run.wait_for_completion(show_output=True)\n",
        "RunDetails(automl_run).show()"
      ]
    },
    {
      "cell_type": "markdown",
      "metadata": {},
      "source": [
        "## フィーチャーの重要度を表示する\r\n",
        "\r\n",
        "上のウィジェットで実験が完了したら、最適な結果を生成した実行をクリックして詳細を表示します。次に、視覚化の下部までスクロールして、フィーチャーの相対的な重要度を確認します。\r\n",
        "\r\n",
        "**ExplanationClient**クラスを使用して、実験によって生成された最適なモデルのフィーチャーの重要度を表示することもできます。"
      ]
    },
    {
      "cell_type": "code",
      "execution_count": null,
      "metadata": {},
      "outputs": [],
      "source": [
        "from azureml.contrib.interpret.explanation.explanation_client import ExplanationClient\n",
        "\n",
        "# 最適なモデルを取得する (出力の 2 番目の項目)\r\n",
        "best_run, fitted_model = automl_run.get_output()\n",
        "\n",
        "# フィーチャーの説明を取得する\r\n",
        "client = ExplanationClient.from_run(best_run)\n",
        "engineered_explanations = client.download_model_explanation()\n",
        "feature_importances = engineered_explanations.get_feature_importance_dict()\n",
        "\n",
        "# 全体フィーチャーの重要度\r\n",
        "print('Feature\\tImportance')\n",
        "for key, value in feature_importances.items():\n",
        "    print(key, '\\t', value)"
      ]
    },
    {
      "cell_type": "markdown",
      "metadata": {},
      "source": [
        "## Azure Machine Learning Studio でモデルの説明を表示する\r\n",
        "\r\n",
        "実験の実行が完了したら、ウィジェット内のリンクをクリックして Azure Machine Learning Studio で実行を確認し、**説明**タブを表示します。そして:\r\n",
        "\r\n",
        "1.自動 Machine Learning によって作成された Explainer を選択します。\r\n",
        "2.全体的なグローバル フィーチャーの重要度を示す**グローバル重要度**グラフを表示します。\r\n",
        "3.**サマリー重要度**グラフを表示すると、*スウォーム*、*バイオリン*、*ボックス*プロットのテスト データの各データ ポイントが表示されます。\r\n",
        "4.個々のポイントを選択すると、選択したデータ ポイントの個々の予測の**ローカル フィーチャーの重要度** が表示されます。"
      ]
    },
    {
      "cell_type": "markdown",
      "metadata": {},
      "source": [
        "## 自動設計フィーチャーの重要度を表示する\r\n",
        "\r\n",
        "自動 Machine Learning には、データの前処理を試みるオプションが含まれており、多くの場合、モデルのトレーニング元となる新しい派生フィーチャーを作成するための*フィーチャー エンジニアリング*を実行します。このオプションを有効にして、自動 Machine Learning 実験を再実行してみましょう。"
      ]
    },
    {
      "cell_type": "code",
      "execution_count": null,
      "metadata": {},
      "outputs": [],
      "source": [
        "import pandas as pd\n",
        "from azureml.train.automl import AutoMLConfig\n",
        "from azureml.core.experiment import Experiment\n",
        "from azureml.widgets import RunDetails\n",
        "\n",
        "# データを読み込む\r\n",
        "train_data = pd.read_csv('data/diabetes.csv')\n",
        "\n",
        "# 自動 ML を構成する\r\n",
        "automl_config = AutoMLConfig(name='Automated ML Experiment',\n",
        "                             task='classification',\n",
        "                             compute_target='local',\n",
        "                             training_data = train_data,\n",
        "                             n_cross_validations = 2,\n",
        "                             label_column_name='Diabetic',\n",
        "                             iterations=3,\n",
        "                             primary_metric = 'AUC_weighted',\n",
        "                             max_concurrent_iterations=3,\n",
        "                             featurization='auto', # フィーチャー エンジニアリングを有効にする\r\n",
        "                             model_explainability=True # フィーチャーの重要度を生成する\r\n",
        "                             )\n",
        "\n",
        "# 自動 ML 実験を実行する\r\n",
        "print('Submitting Auto ML experiment...')\n",
        "automl_experiment = Experiment(ws, 'diabetes_automl')\n",
        "automl_run = automl_experiment.submit(automl_config)\n",
        "automl_run.wait_for_completion(show_output=True)\n",
        "RunDetails(automl_run).show()"
      ]
    },
    {
      "cell_type": "markdown",
      "metadata": {},
      "source": [
        "機能化、[Scikit-Learn 変換パイプライン](https://scikit-learn.org/stable/modules/compose.html#combining-estimators)を使用して実現されます (Azure Machine Learning パイプラインと混同しないでください)。これらは、推論する前にデータを変換するステップを含むモデルを生成します。\r\n",
        "\r\n",
        "次のコードを実行して、モデル パイプラインのステップ、エンジニアリングされたフィーチャーの重要度を表示します。"
      ]
    },
    {
      "cell_type": "code",
      "execution_count": null,
      "metadata": {},
      "outputs": [],
      "source": [
        "from azureml.contrib.interpret.explanation.explanation_client import ExplanationClient\n",
        "\n",
        "# 最適なモデルを取得する (出力の 2 番目の項目)\r\n",
        "best_run, fitted_model = automl_run.get_output()\n",
        "\n",
        "print('Model pipeline steps:')\n",
        "for step in fitted_model.named_steps:\n",
        "    print('-',step)\n",
        "    \n",
        "# フィーチャーの説明を取得する\r\n",
        "client = ExplanationClient.from_run(best_run)\n",
        "engineered_explanations = client.download_model_explanation(raw=False)\n",
        "feature_importances = engineered_explanations.get_feature_importance_dict()\n",
        "\n",
        "# 全体フィーチャーの重要度\r\n",
        "print('\\nFeature\\tImportance')\n",
        "for key, value in feature_importances.items():\n",
        "    print(key, '\\t', value)"
      ]
    },
    {
      "cell_type": "markdown",
      "metadata": {},
      "source": [
        "> **詳細情報**: 自動 Machine Learning の詳細については、[Azure ML のドキュメント](https://docs.microsoft.com/azure/machine-learning/how-to-configure-auto-train)を参照してください。"
      ]
    }
  ],
  "metadata": {
    "kernelspec": {
      "display_name": "Python 3.6 - AzureML",
      "language": "python",
      "name": "python3-azureml"
    },
    "language_info": {
      "codemirror_mode": {
        "name": "ipython",
        "version": 3
      },
      "file_extension": ".py",
      "mimetype": "text/x-python",
      "name": "python",
      "nbconvert_exporter": "python",
      "pygments_lexer": "ipython3",
      "version": "3.6.9"
    }
  },
  "nbformat": 4,
  "nbformat_minor": 2
}