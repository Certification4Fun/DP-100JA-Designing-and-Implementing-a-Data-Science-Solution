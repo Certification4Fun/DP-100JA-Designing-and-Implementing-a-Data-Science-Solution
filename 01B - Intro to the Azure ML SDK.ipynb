﻿{
 "cells": [
  {
   "cell_type": "markdown",
   "metadata": {},
   "source": [
    "#Azure ML SDK の概要\n",
    "\n",
    "Azure Machine Learning (*Azure ML*) は、機械学習ソリューションを作成および管理するためのクラウドベースのサービスです。データ サイエンティストが既存のデータ処理とモデル開発のスキルとフレームワークを活用し、ワークロードをクラウドに拡大するのに役立つように設計されています。Azure ML SDK for Python には、Azure サブスクリプションで Azure ML を操作するために使用できるクラスが用意されています。\n",
    "\n",
    "##Azure ML SDK のバージョンを確認する\n",
    "\n",
    "まず、**azureml-core** パッケージをインポートし、インストールされている SDK のバージョンを確認します。"
   ]
  },
  {
   "cell_type": "code",
   "execution_count": null,
   "metadata": {},
   "outputs": [],
   "source": [
    "import azureml.core\n",
    "print(\"Ready to use Azure ML\", azureml.core.VERSION)"
   ]
  },
  {
   "cell_type": "markdown",
   "metadata": {},
   "source": [
    "##ワークスペースに接続する\n",
    "\n",
    "すべての実験と関連リソースは、Azure ML ワークスペース内で管理されます。既存のワークスペースに接続するか、Azure ML SDK を使用して新しいワークスペースを作成できます。\n",
    "\n",
    "ほとんどの場合、ワークスペースの構成は JSON 構成ファイルに格納されます。これにより、Azure サブスクリプション ID などの詳細を覚えておく必要なく、簡単に再接続できます。Azure portal のワークスペースのブレードから JSON 構成ファイルをダウンロードできますが、ワークスペースでコンピューティング インスタンスを使用している場合、構成ファイルは既にルート フォルダーにダウンロードされています。\n",
    "\n",
    "次のコードでは、構成ファイルを使用してワークスペースに接続します。Notebook セッションで初めて実行するときは、Azure にサインインするように求められますので、https://microsoft.com/devicelogin リンクをクリックし、自動的に生成されたコードを入力して Azure にサインインしてください。正常にサインインした後、開いたブラウザー タブを閉じて、この Notebook に戻ることができます。"
   ]
  },
  {
   "cell_type": "code",
   "execution_count": null,
   "metadata": {},
   "outputs": [],
   "source": [
    "from azureml.core import Workspace\n",
    "\n",
    "ws = Workspace.from_config()\n",
    "print(ws.name, \"loaded\")"
   ]
  },
  {
   "cell_type": "markdown",
   "metadata": {},
   "source": [
    "##Azure ML リソースの表示\n",
    "\n",
    "ワークスペースへの接続ができたので、ワークスペースに含まれるリソースを表示できます。"
   ]
  },
  {
   "cell_type": "code",
   "execution_count": null,
   "metadata": {},
   "outputs": [],
   "source": [
    "from azureml.core import ComputeTarget, Datastore, Dataset\n",
    "\n",
    "print(\"Compute Targets:\")\n",
    "for compute_name in ws.compute_targets:\n",
    "    compute = ws.compute_targets[compute_name]\n",
    "    print(\"\\t\", compute.name, ':', compute.type)\n",
    "    \n",
    "print(\"Datastores:\")\n",
    "for datastore_name in ws.datastores:\n",
    "    datastore = Datastore.get(ws, datastore_name)\n",
    "    print(\"\\t\", datastore.name, ':', datastore.datastore_type)\n",
    "    \n",
    "print(\"Datasets:\")\n",
    "for dataset_name in list(ws.datasets.keys()):\n",
    "    dataset = Dataset.get_by_name(ws, dataset_name)\n",
    "    print(\"\\t\", dataset.name)"
   ]
  },
  {
   "cell_type": "markdown",
   "metadata": {},
   "source": [
    "Azure ML SDK を使用してワークスペース内のリソースを表示する方法について説明しました。SDK は、Azure ML を使用して機械学習ワークロードを操作するために必要なリソースの作成と構成をスクリプト化する優れた方法を提供します。詳細については、[Azure ML SDK のドキュメント](https://docs.microsoft.com/python/api/overview/azure/ml/intro?view=azure-ml-py)を参照してください。"
   ]
  }
 ],
 "metadata": {
  "kernelspec": {
   "display_name": "Python 3.6 - AzureML",
   "language": "python",
   "name": "python3-azureml"
  },
  "language_info": {
   "codemirror_mode": {
    "name": "ipython",
    "version": 3
   },
   "file_extension": ".py",
   "mimetype": "text/x-python",
   "name": "python",
   "nbconvert_exporter": "python",
   "pygments_lexer": "ipython3",
   "version": "3.6.9"
  }
 },
 "nbformat": 4,
 "nbformat_minor": 2
}
