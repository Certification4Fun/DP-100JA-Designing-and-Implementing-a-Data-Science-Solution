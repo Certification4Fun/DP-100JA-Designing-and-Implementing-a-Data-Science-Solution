{
 "cells": [
  {
   "cell_type": "markdown",
   "metadata": {},
   "source": [
    "# ビジュアル デザイナーの使用\n",
    "\n",
    "> **重要**: この演習では、[ラボ 2A](labdocs/Lab02A.md) と[ラボ 2B](labdocs/Lab02B.md) を完了し、コンテナー化されたサービスとして推論パイプラインを作成してデプロイすることを前提としています。\n",
    "\n",
    "次のセルのコードを変更して、***ENDPOINT*** と ***PRIMARY_KEY*** を **predict-diabetes** サービスに使用します。次に、セルを実行して新しい患者データを送信し、予測された分類を取得します。"
   ]
  },
  {
   "cell_type": "code",
   "execution_count": null,
   "metadata": {},
   "outputs": [],
   "source": [
    "import urllib.request\n",
    "import json\n",
    "import os\n",
    "\n",
    "endpoint = 'ENDPOINT' # これをエンドポイントに置き換える\n",
    "key = 'PRIMARY_KEY' # これを主キーに置き換る\n",
    "\n",
    "data = {\n",
    "    \"Inputs\": {\n",
    "          \"WebServiceInput0\":\n",
    "          [\n",
    "              {\n",
    "                    'PatientID': \"1882185\",\n",
    "                    'Pregnancies': \"9\",\n",
    "                    'PlasmaGlucose': \"104\",\n",
    "                    'DiastolicBloodPressure': \"51\",\n",
    "                    'TricepsThickness': \"7\",\n",
    "                    'SerumInsulin': \"24\",\n",
    "                    'BMI': \"27.36983156\",\n",
    "                    'DiabetesPedigree': \"1.3504720469999998\",\n",
    "                    'Age': \"43\",\n",
    "              },\n",
    "          ],\n",
    "    },\n",
    "    \"GlobalParameters\":  {\n",
    "    }\n",
    "}\n",
    "\n",
    "body = str.encode(json.dumps(data))\n",
    "\n",
    "\n",
    "headers = {'Content-Type':'application/json', 'Authorization':('Bearer '+ key)}\n",
    "\n",
    "req = urllib.request.Request(endpoint, body, headers)\n",
    "\n",
    "try:\n",
    "    response = urllib.request.urlopen(req)\n",
    "\n",
    "    result = response.read()\n",
    "    print(result)\n",
    "except urllib.error.HTTPError as error:\n",
    "    print(\"The request failed with status code: \" + str(error.code))\n",
    "\n",
    "    # ヘッダーを出力する - これらには、エラーのデバッグに役立つ REquert ID とタイムスタンプが含まれる\n",
    "    print(error.info())\n",
    "    print(json.loads(error.read().decode(\"utf8\", 'ignore')))"
   ]
  }
 ],
 "metadata": {
  "kernelspec": {
   "display_name": "Python 3.6 - AzureML",
   "language": "python",
   "name": "python3-azureml"
  },
  "language_info": {
   "codemirror_mode": {
    "name": "ipython",
    "version": 3
   },
   "file_extension": ".py",
   "mimetype": "text/x-python",
   "name": "python",
   "nbconvert_exporter": "python",
   "pygments_lexer": "ipython3",
   "version": "3.6.9"
  }
 },
 "nbformat": 4,
 "nbformat_minor": 2
}
